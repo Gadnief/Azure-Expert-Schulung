{
 "cells": [
  {
   "cell_type": "markdown",
   "metadata": {},
   "source": [
    "# Datenexploration\n",
    "Zunächst werden die Trainings- und Testdaten, die sich in unseren CSV-Dateien befinden, visualisiert. Dadurch können bereits Auffälligkeiten im Datensatz erkannt werden.\n",
    "\n",
    "### Einführung in die benötigten Bibliotheken\n",
    "Zuerst müssen die benötigten Bibliotheken importiert werden. Diese werden im folgenden kurz vorgestellt:\n",
    "\n",
    "##### NumPy\n",
    "NumPy ist eine Bibliothek für Lineare Algebra. Sie ist im Bereich Data Science enorm wichtig, da fast alle Libraries im PyData Ökosystem auf NumPy zurückgreifen. Innerhalb unserer Anaconda Python Distribution ist NumPy bereits vorinstalliert. Für tiefergehende Informationen nutzen Sie bitte die offizielle [Dokumentation von NumPy.](https://docs.scipy.org/doc/numpy/)\n",
    "\n",
    "##### Pandas\n",
    "Pandas ist ebenfalls eine Bibliothek für Python mit der Hilfsmittel zur Verwaltung und Analyse von Daten bereitstellt. Es stellt Datenstrukturen und Operatoren bereit um den Zugriff auf numerische Tabellen und Zeitreihen zu vereinfachen. Weitere Infos in der [Dokumentation von Pandas.](https://pandas.pydata.org/pandas-docs/stable/)\n",
    "\n",
    "##### Matplotlib\n",
    "Matplotlib wurde vor dem Hintergrund geschaffen, die Möglichkeiten, die die Programmiersprache MatLab zur Visualisierung bietet, in Python umzusetzen. Es lassen sich wissenschaftliche Diagramme in 2D und 3D erstellen. \n",
    "\n",
    "Vorteile von Matplotlib:\n",
    "* einfache Erstellung von Plots\n",
    "* sehr anpassbar\n",
    "* Output in hoher Qualität und in vielen verschiedenen Formaten\n",
    "\n",
    "Weitere Infos in der [Dokumentation von Matplotlib.](https://matplotlib.org/)\n",
    "\n",
    "##### Seaborn\n",
    "Seaborn ist eine Bbiliothek zur Erstellung von statistischen Diagrammen. Es baut auf Matplotlib auf und ist eng mit den Pandas Datenstrukturen verknüpft.\n",
    "Weitere Infos in der [Dokumentation von Seaborn](https://seaborn.pydata.org/)\n",
    "\n",
    "##### Microsoft Azure Machine Learning Python client library for Azure ML Studio\n",
    "Die Bibliothek ermöglicht es auf die Azure ML Studio-Datasets von Ihrer lokalen Python-Umgebung aus zuzugreifen. Dadurch können Datasets heruntergeladen werden, die im ML Studio Workspace verfügbar sind. Optional können die Daten in ein Pandas Data Frame konvertiert werden. [Dokumentation von AzureML Client Library](https://github.com/Azure/Azure-MachineLearning-ClientLibrary-Python)\n"
   ]
  },
  {
   "cell_type": "markdown",
   "metadata": {},
   "source": [
    "### Importieren der benötigten Bibliotheken\n",
    "Es werden die oben vorgestellten Bibliotheken importiert. Der Ausdruck **%matplotlib inline** ist eine [\"Magic Function\"](https://ipython.readthedocs.io/en/stable/interactive/tutorial.html#magics-explained) in IPython. Dadurch wird ermöglicht, dass die Plot-Ausgaben im Notebook angezeigt und gespeichert werden."
   ]
  },
  {
   "cell_type": "code",
   "execution_count": 1,
   "metadata": {},
   "outputs": [],
   "source": [
    "import numpy as np\n",
    "import pandas as pd\n",
    "import seaborn as sns\n",
    "import matplotlib.pyplot as plt\n",
    "from azureml import Workspace\n",
    "%matplotlib inline\n",
    "\n",
    "import warnings\n",
    "warnings.filterwarnings('ignore')"
   ]
  },
  {
   "cell_type": "markdown",
   "metadata": {},
   "source": [
    "### Importieren der Trainings- und Testdaten\n",
    "\n",
    "Wenn Sie im Azure ML-Studio arbeiten oder Datasets von dort verwenden, müssen Sie sich einen Data Access Code im ML-Studio erstellen lassen und diesen in das Notebook einbinden. Wenn das Notebook lokal läuft und Sie die Datensätze von Ihrem Rechner aus einbinden, stellt Pandas die Funktion [\"panda.read_csv()\"](https://pandas.pydata.org/pandas-docs/stable/generated/pandas.read_csv.html) bereit, die es ermöglicht, CSV-Dateien als Data Frame einzulesen. Es muss lediglich der Pfad zur Datei angegeben werden. \n",
    "\n",
    "Über [\"DataFrame.head()\"](https://pandas.pydata.org/pandas-docs/stable/generated/pandas.DataFrame.head.html) können die obersten Reihen des Data Frames angezeigt werden (standardmäßig die obersten 5). Damit können wir prüfen, ob die CSV-Datei korrekt eingelesen wurde und wir erkennen die Struktur unserer Daten.\n"
   ]
  },
  {
   "cell_type": "markdown",
   "metadata": {},
   "source": [
    "**Aufgabe 1:** *Importieren sie die Trainingsdaten aus der CSV-Datei \"anomaly_train.csv\" unter dem Namen \"df_train\" und lassen Sie sich die obersten Reihen des Datensatzes anzeigen.\n",
    "Verfahren Sie im Anschluss nach dem selben Muster mit den Testdaten (\"df_test\")*"
   ]
  },
  {
   "cell_type": "markdown",
   "metadata": {},
   "source": [
    "Trainingsdaten"
   ]
  },
  {
   "cell_type": "code",
   "execution_count": null,
   "metadata": {},
   "outputs": [],
   "source": []
  },
  {
   "cell_type": "markdown",
   "metadata": {},
   "source": [
    "Testdaten"
   ]
  },
  {
   "cell_type": "code",
   "execution_count": null,
   "metadata": {},
   "outputs": [],
   "source": []
  },
  {
   "cell_type": "markdown",
   "metadata": {},
   "source": [
    "### Deskriptive Statistiken\n",
    "Als erstes lassen wir uns mit Hilfe von [\"DataFrame.describe()\"](https://pandas.pydata.org/pandas-docs/stable/generated/pandas.DataFrame.describe.html) deskriptive Statistiken ausgeben, die die Datensätze näher beschreiben.\n",
    "\n",
    "**Aufgabe 2:** Lassen Sie sich für die Trainings- und Testdaten die deskriptiven Statistiken anzeigen."
   ]
  },
  {
   "cell_type": "code",
   "execution_count": 6,
   "metadata": {},
   "outputs": [
    {
     "data": {
      "text/html": [
       "<div>\n",
       "<style scoped>\n",
       "    .dataframe tbody tr th:only-of-type {\n",
       "        vertical-align: middle;\n",
       "    }\n",
       "\n",
       "    .dataframe tbody tr th {\n",
       "        vertical-align: top;\n",
       "    }\n",
       "\n",
       "    .dataframe thead th {\n",
       "        text-align: right;\n",
       "    }\n",
       "</style>\n",
       "<table border=\"1\" class=\"dataframe\">\n",
       "  <thead>\n",
       "    <tr style=\"text-align: right;\">\n",
       "      <th></th>\n",
       "      <th>ID</th>\n",
       "      <th>Rotor speed</th>\n",
       "      <th>Gear Temp.</th>\n",
       "      <th>Generator rotation</th>\n",
       "      <th>Env. Temp.</th>\n",
       "      <th>Output</th>\n",
       "      <th>Voltage</th>\n",
       "      <th>Windspeed</th>\n",
       "    </tr>\n",
       "  </thead>\n",
       "  <tbody>\n",
       "    <tr>\n",
       "      <th>count</th>\n",
       "      <td>4000.000000</td>\n",
       "      <td>4000.000000</td>\n",
       "      <td>4000.000000</td>\n",
       "      <td>4000.000000</td>\n",
       "      <td>4000.000000</td>\n",
       "      <td>4000.000000</td>\n",
       "      <td>4000.000000</td>\n",
       "      <td>4000.000000</td>\n",
       "    </tr>\n",
       "    <tr>\n",
       "      <th>mean</th>\n",
       "      <td>2000.500000</td>\n",
       "      <td>24.917768</td>\n",
       "      <td>65.602625</td>\n",
       "      <td>1820.469250</td>\n",
       "      <td>7.458750</td>\n",
       "      <td>338.813750</td>\n",
       "      <td>400.017610</td>\n",
       "      <td>25.822210</td>\n",
       "    </tr>\n",
       "    <tr>\n",
       "      <th>std</th>\n",
       "      <td>1154.844867</td>\n",
       "      <td>5.897408</td>\n",
       "      <td>3.005754</td>\n",
       "      <td>1007.255333</td>\n",
       "      <td>2.305022</td>\n",
       "      <td>29.431771</td>\n",
       "      <td>2.299802</td>\n",
       "      <td>11.343849</td>\n",
       "    </tr>\n",
       "    <tr>\n",
       "      <th>min</th>\n",
       "      <td>1.000000</td>\n",
       "      <td>10.110000</td>\n",
       "      <td>59.100000</td>\n",
       "      <td>501.000000</td>\n",
       "      <td>0.000000</td>\n",
       "      <td>300.000000</td>\n",
       "      <td>396.000000</td>\n",
       "      <td>1.030000</td>\n",
       "    </tr>\n",
       "    <tr>\n",
       "      <th>25%</th>\n",
       "      <td>1000.750000</td>\n",
       "      <td>20.107500</td>\n",
       "      <td>63.100000</td>\n",
       "      <td>1012.750000</td>\n",
       "      <td>6.000000</td>\n",
       "      <td>315.000000</td>\n",
       "      <td>398.030000</td>\n",
       "      <td>16.602500</td>\n",
       "    </tr>\n",
       "    <tr>\n",
       "      <th>50%</th>\n",
       "      <td>2000.500000</td>\n",
       "      <td>24.055000</td>\n",
       "      <td>65.600000</td>\n",
       "      <td>1605.500000</td>\n",
       "      <td>8.000000</td>\n",
       "      <td>333.000000</td>\n",
       "      <td>400.050000</td>\n",
       "      <td>22.700000</td>\n",
       "    </tr>\n",
       "    <tr>\n",
       "      <th>75%</th>\n",
       "      <td>3000.250000</td>\n",
       "      <td>29.972500</td>\n",
       "      <td>68.100000</td>\n",
       "      <td>2404.250000</td>\n",
       "      <td>9.000000</td>\n",
       "      <td>355.000000</td>\n",
       "      <td>402.050000</td>\n",
       "      <td>36.192500</td>\n",
       "    </tr>\n",
       "    <tr>\n",
       "      <th>max</th>\n",
       "      <td>4000.000000</td>\n",
       "      <td>40.270000</td>\n",
       "      <td>72.100000</td>\n",
       "      <td>5507.000000</td>\n",
       "      <td>10.000000</td>\n",
       "      <td>450.000000</td>\n",
       "      <td>404.000000</td>\n",
       "      <td>51.790000</td>\n",
       "    </tr>\n",
       "  </tbody>\n",
       "</table>\n",
       "</div>"
      ],
      "text/plain": [
       "                ID  Rotor speed   Gear Temp.  Generator rotation   Env. Temp.  \\\n",
       "count  4000.000000  4000.000000  4000.000000         4000.000000  4000.000000   \n",
       "mean   2000.500000    24.917768    65.602625         1820.469250     7.458750   \n",
       "std    1154.844867     5.897408     3.005754         1007.255333     2.305022   \n",
       "min       1.000000    10.110000    59.100000          501.000000     0.000000   \n",
       "25%    1000.750000    20.107500    63.100000         1012.750000     6.000000   \n",
       "50%    2000.500000    24.055000    65.600000         1605.500000     8.000000   \n",
       "75%    3000.250000    29.972500    68.100000         2404.250000     9.000000   \n",
       "max    4000.000000    40.270000    72.100000         5507.000000    10.000000   \n",
       "\n",
       "            Output      Voltage    Windspeed  \n",
       "count  4000.000000  4000.000000  4000.000000  \n",
       "mean    338.813750   400.017610    25.822210  \n",
       "std      29.431771     2.299802    11.343849  \n",
       "min     300.000000   396.000000     1.030000  \n",
       "25%     315.000000   398.030000    16.602500  \n",
       "50%     333.000000   400.050000    22.700000  \n",
       "75%     355.000000   402.050000    36.192500  \n",
       "max     450.000000   404.000000    51.790000  "
      ]
     },
     "execution_count": 6,
     "metadata": {},
     "output_type": "execute_result"
    }
   ],
   "source": [
    "df_train.describe()"
   ]
  },
  {
   "cell_type": "code",
   "execution_count": 7,
   "metadata": {},
   "outputs": [
    {
     "data": {
      "text/html": [
       "<div>\n",
       "<style scoped>\n",
       "    .dataframe tbody tr th:only-of-type {\n",
       "        vertical-align: middle;\n",
       "    }\n",
       "\n",
       "    .dataframe tbody tr th {\n",
       "        vertical-align: top;\n",
       "    }\n",
       "\n",
       "    .dataframe thead th {\n",
       "        text-align: right;\n",
       "    }\n",
       "</style>\n",
       "<table border=\"1\" class=\"dataframe\">\n",
       "  <thead>\n",
       "    <tr style=\"text-align: right;\">\n",
       "      <th></th>\n",
       "      <th>ID</th>\n",
       "      <th>Rotor speed</th>\n",
       "      <th>Gear Temp.</th>\n",
       "      <th>Generator rotation</th>\n",
       "      <th>Env. Temp.</th>\n",
       "      <th>Output</th>\n",
       "      <th>Voltage</th>\n",
       "      <th>Windspeed</th>\n",
       "    </tr>\n",
       "  </thead>\n",
       "  <tbody>\n",
       "    <tr>\n",
       "      <th>count</th>\n",
       "      <td>360.000000</td>\n",
       "      <td>360.000000</td>\n",
       "      <td>360.000000</td>\n",
       "      <td>360.000000</td>\n",
       "      <td>360.000000</td>\n",
       "      <td>360.000000</td>\n",
       "      <td>360.000000</td>\n",
       "      <td>360.000000</td>\n",
       "    </tr>\n",
       "    <tr>\n",
       "      <th>mean</th>\n",
       "      <td>180.500000</td>\n",
       "      <td>21.792389</td>\n",
       "      <td>65.698056</td>\n",
       "      <td>1486.502778</td>\n",
       "      <td>7.552778</td>\n",
       "      <td>329.986111</td>\n",
       "      <td>399.989861</td>\n",
       "      <td>19.975194</td>\n",
       "    </tr>\n",
       "    <tr>\n",
       "      <th>std</th>\n",
       "      <td>104.067286</td>\n",
       "      <td>2.987897</td>\n",
       "      <td>3.571377</td>\n",
       "      <td>599.530847</td>\n",
       "      <td>2.123615</td>\n",
       "      <td>18.417847</td>\n",
       "      <td>2.357538</td>\n",
       "      <td>4.463647</td>\n",
       "    </tr>\n",
       "    <tr>\n",
       "      <th>min</th>\n",
       "      <td>1.000000</td>\n",
       "      <td>14.000000</td>\n",
       "      <td>55.000000</td>\n",
       "      <td>500.000000</td>\n",
       "      <td>1.000000</td>\n",
       "      <td>300.000000</td>\n",
       "      <td>393.280000</td>\n",
       "      <td>11.700000</td>\n",
       "    </tr>\n",
       "    <tr>\n",
       "      <th>25%</th>\n",
       "      <td>90.750000</td>\n",
       "      <td>19.790000</td>\n",
       "      <td>63.275000</td>\n",
       "      <td>1036.500000</td>\n",
       "      <td>6.000000</td>\n",
       "      <td>314.000000</td>\n",
       "      <td>398.127500</td>\n",
       "      <td>15.882500</td>\n",
       "    </tr>\n",
       "    <tr>\n",
       "      <th>50%</th>\n",
       "      <td>180.500000</td>\n",
       "      <td>21.845000</td>\n",
       "      <td>65.450000</td>\n",
       "      <td>1437.500000</td>\n",
       "      <td>8.000000</td>\n",
       "      <td>330.000000</td>\n",
       "      <td>399.890000</td>\n",
       "      <td>20.770000</td>\n",
       "    </tr>\n",
       "    <tr>\n",
       "      <th>75%</th>\n",
       "      <td>270.250000</td>\n",
       "      <td>24.155000</td>\n",
       "      <td>68.100000</td>\n",
       "      <td>1879.500000</td>\n",
       "      <td>9.000000</td>\n",
       "      <td>343.000000</td>\n",
       "      <td>402.015000</td>\n",
       "      <td>24.155000</td>\n",
       "    </tr>\n",
       "    <tr>\n",
       "      <th>max</th>\n",
       "      <td>360.000000</td>\n",
       "      <td>27.800000</td>\n",
       "      <td>85.200000</td>\n",
       "      <td>3000.000000</td>\n",
       "      <td>10.000000</td>\n",
       "      <td>375.000000</td>\n",
       "      <td>403.980000</td>\n",
       "      <td>26.590000</td>\n",
       "    </tr>\n",
       "  </tbody>\n",
       "</table>\n",
       "</div>"
      ],
      "text/plain": [
       "               ID  Rotor speed  Gear Temp.  Generator rotation  Env. Temp.  \\\n",
       "count  360.000000   360.000000  360.000000          360.000000  360.000000   \n",
       "mean   180.500000    21.792389   65.698056         1486.502778    7.552778   \n",
       "std    104.067286     2.987897    3.571377          599.530847    2.123615   \n",
       "min      1.000000    14.000000   55.000000          500.000000    1.000000   \n",
       "25%     90.750000    19.790000   63.275000         1036.500000    6.000000   \n",
       "50%    180.500000    21.845000   65.450000         1437.500000    8.000000   \n",
       "75%    270.250000    24.155000   68.100000         1879.500000    9.000000   \n",
       "max    360.000000    27.800000   85.200000         3000.000000   10.000000   \n",
       "\n",
       "           Output     Voltage   Windspeed  \n",
       "count  360.000000  360.000000  360.000000  \n",
       "mean   329.986111  399.989861   19.975194  \n",
       "std     18.417847    2.357538    4.463647  \n",
       "min    300.000000  393.280000   11.700000  \n",
       "25%    314.000000  398.127500   15.882500  \n",
       "50%    330.000000  399.890000   20.770000  \n",
       "75%    343.000000  402.015000   24.155000  \n",
       "max    375.000000  403.980000   26.590000  "
      ]
     },
     "execution_count": 7,
     "metadata": {},
     "output_type": "execute_result"
    }
   ],
   "source": [
    "df_test.describe()"
   ]
  },
  {
   "cell_type": "markdown",
   "metadata": {},
   "source": [
    "### Überprüfen auf Null-Werte\n",
    "Datensets sind nicht immer vollständig. Sie enthalten oft ungewollte Missing Values. Pandas Dataframe liefern eine eingebaute Methode [isnull()](https://pandas.pydata.org/pandas-docs/stable/generated/pandas.isnull.html) die für jeden Wert im Dataframe True/False zurückgibt.\n",
    "\n",
    "Da wir aber nicht ein Dataframe mit True und False Werten geliefert bekommen wollen, nutzen wir zusätzlich die sum()-Funktion. Dadurch werden die True-Werte je Spalte aufsummiert.\n",
    "\n",
    "**Aufgabe 3:** Lassen Sie sich die Anzahl fehlender Werte für die beiden Datensätze jeweils ausgeben."
   ]
  },
  {
   "cell_type": "markdown",
   "metadata": {},
   "source": [
    "Trainingsdaten"
   ]
  },
  {
   "cell_type": "code",
   "execution_count": null,
   "metadata": {},
   "outputs": [],
   "source": []
  },
  {
   "cell_type": "markdown",
   "metadata": {},
   "source": [
    "Testdaten"
   ]
  },
  {
   "cell_type": "code",
   "execution_count": null,
   "metadata": {},
   "outputs": [],
   "source": []
  },
  {
   "cell_type": "markdown",
   "metadata": {},
   "source": [
    "### Ausschließen der Spalte ID\n",
    "Es fällt auf, dass es eine Spalte \"ID\" gibt, die wir natürlich nicht in die Visualisierung oder unser Modell mit einfließen lassen wollen. Über den nachfolgenden Befehl wird diese Spalte aus dem Datensatz ausgeschlossen. Lassen wir uns wieder die Top-5 Elemente anzeigen, sehen wir, dass die Spalte erfolgreich entfernt wurde."
   ]
  },
  {
   "cell_type": "code",
   "execution_count": 10,
   "metadata": {},
   "outputs": [
    {
     "data": {
      "text/html": [
       "<div>\n",
       "<style scoped>\n",
       "    .dataframe tbody tr th:only-of-type {\n",
       "        vertical-align: middle;\n",
       "    }\n",
       "\n",
       "    .dataframe tbody tr th {\n",
       "        vertical-align: top;\n",
       "    }\n",
       "\n",
       "    .dataframe thead th {\n",
       "        text-align: right;\n",
       "    }\n",
       "</style>\n",
       "<table border=\"1\" class=\"dataframe\">\n",
       "  <thead>\n",
       "    <tr style=\"text-align: right;\">\n",
       "      <th></th>\n",
       "      <th>Rotor speed</th>\n",
       "      <th>Gear Temp.</th>\n",
       "      <th>Generator rotation</th>\n",
       "      <th>Env. Temp.</th>\n",
       "      <th>Output</th>\n",
       "      <th>Voltage</th>\n",
       "      <th>Windspeed</th>\n",
       "    </tr>\n",
       "  </thead>\n",
       "  <tbody>\n",
       "    <tr>\n",
       "      <th>0</th>\n",
       "      <td>18.40</td>\n",
       "      <td>63.3</td>\n",
       "      <td>768</td>\n",
       "      <td>9</td>\n",
       "      <td>307</td>\n",
       "      <td>400.09</td>\n",
       "      <td>7.47</td>\n",
       "    </tr>\n",
       "    <tr>\n",
       "      <th>1</th>\n",
       "      <td>18.30</td>\n",
       "      <td>68.7</td>\n",
       "      <td>1142</td>\n",
       "      <td>7</td>\n",
       "      <td>307</td>\n",
       "      <td>396.34</td>\n",
       "      <td>7.32</td>\n",
       "    </tr>\n",
       "    <tr>\n",
       "      <th>2</th>\n",
       "      <td>18.97</td>\n",
       "      <td>68.4</td>\n",
       "      <td>800</td>\n",
       "      <td>5</td>\n",
       "      <td>302</td>\n",
       "      <td>396.41</td>\n",
       "      <td>8.15</td>\n",
       "    </tr>\n",
       "    <tr>\n",
       "      <th>3</th>\n",
       "      <td>14.95</td>\n",
       "      <td>67.8</td>\n",
       "      <td>590</td>\n",
       "      <td>9</td>\n",
       "      <td>313</td>\n",
       "      <td>397.62</td>\n",
       "      <td>7.44</td>\n",
       "    </tr>\n",
       "    <tr>\n",
       "      <th>4</th>\n",
       "      <td>15.65</td>\n",
       "      <td>60.8</td>\n",
       "      <td>736</td>\n",
       "      <td>6</td>\n",
       "      <td>322</td>\n",
       "      <td>401.58</td>\n",
       "      <td>7.61</td>\n",
       "    </tr>\n",
       "  </tbody>\n",
       "</table>\n",
       "</div>"
      ],
      "text/plain": [
       "   Rotor speed  Gear Temp.  Generator rotation  Env. Temp.  Output  Voltage  \\\n",
       "0        18.40        63.3                 768           9     307   400.09   \n",
       "1        18.30        68.7                1142           7     307   396.34   \n",
       "2        18.97        68.4                 800           5     302   396.41   \n",
       "3        14.95        67.8                 590           9     313   397.62   \n",
       "4        15.65        60.8                 736           6     322   401.58   \n",
       "\n",
       "   Windspeed  \n",
       "0       7.47  \n",
       "1       7.32  \n",
       "2       8.15  \n",
       "3       7.44  \n",
       "4       7.61  "
      ]
     },
     "execution_count": 10,
     "metadata": {},
     "output_type": "execute_result"
    }
   ],
   "source": [
    "df_train = df_train[df_train.columns[1:8]]\n",
    "df_train.head()"
   ]
  },
  {
   "cell_type": "code",
   "execution_count": 11,
   "metadata": {},
   "outputs": [],
   "source": [
    "df_test = df_test[df_test.columns[1:8]]"
   ]
  },
  {
   "cell_type": "markdown",
   "metadata": {},
   "source": [
    "### Korrelationen zwischen den Variablen prüfen \n",
    "Als nächstes prüfen wir, ob zwischen den Variablen Korrelationen auftreten. Dazu nutzen wir die [corr()-Funktion](https://pandas.pydata.org/pandas-docs/stable/generated/pandas.DataFrame.corr.html) aus der Pandas Library, um die paarweise Korrelation der Spalten zu berechnen. Standardmäßig wird der Pearson Korrelationskoeffizient verwendet. Da dieser aber eine annähernde Normalverteilung der Variablen und einen linearen Zusammenhang zwischen diesen voraussetzt, nutzen wir die Spearman-Korrelation.\n",
    "\n",
    "Referenzen:\n",
    "* [Vergleich von Pearson und Spearman](https://www.statistik-und-beratung.de/2013/05/analyse-von-zusammenhangen-korrelation/)\n",
    "\n",
    "**Aufgabe 4:** Untersuchen Sie, ob zwischen den Variablen des Trainingsdatensatzes Korrelationen bestehen. Standardmäßig wird der Pearson-Koeffizient berechnet. Nutzen Sie die verlinkte Dokumentation, um entsprechende Anpassungen vorzunehmen. Speichern Sie das Ergebnis als Variable \"corr\" für den nächsten Schritt."
   ]
  },
  {
   "cell_type": "code",
   "execution_count": null,
   "metadata": {},
   "outputs": [],
   "source": []
  },
  {
   "cell_type": "markdown",
   "metadata": {},
   "source": [
    "Anzeigen von \"corr\"\""
   ]
  },
  {
   "cell_type": "code",
   "execution_count": null,
   "metadata": {},
   "outputs": [],
   "source": []
  },
  {
   "cell_type": "markdown",
   "metadata": {},
   "source": [
    "Um den Output der Korrelation zu visualisieren, bietet sich eine Heatmap an."
   ]
  },
  {
   "cell_type": "code",
   "execution_count": 13,
   "metadata": {},
   "outputs": [
    {
     "data": {
      "image/png": "[encoded data removed]",
      "text/plain": [
       "<Figure size 432x288 with 2 Axes>"
      ]
     },
     "metadata": {},
     "output_type": "display_data"
    }
   ],
   "source": [
    "sns.heatmap(corr, \n",
    "            xticklabels=corr.columns.values,\n",
    "            yticklabels=corr.columns.values,\n",
    "            vmin = -1.0, vmax = 1.0, center = 0\n",
    "           )\n",
    "plt.show()"
   ]
  },
  {
   "cell_type": "markdown",
   "metadata": {},
   "source": [
    "Wir erkennen, dass besonders zwischen \"Rotor Speed\" und \"Windspeed\" eine starke Korrelation besteht. Zwischen anderen Variablen bestehene teilweise Zusammenhänge und andere weisen kaum Zusammenhänge auf. "
   ]
  },
  {
   "cell_type": "markdown",
   "metadata": {},
   "source": [
    "#### Pairplot zur Abbildung von Korrelationen zwischen Variablen\n",
    "Zur Darstellung des Pairplot nutzen wir [\"seaborn.pairplot()\"](https://seaborn.pydata.org/generated/seaborn.pairplot.html). Auf der Diagonalen werden die Histogramme der jeweiligen Variablen abgebildet. Ansonsten werden jeweils zwei Variablen gegenübergestellt.\n",
    "\n",
    "**Aufgabe 5:** Erstellen Sie zwei Pairplots um die Zusammenhänge zwischen zwei Variablen darzustellen (sowohl für die Trainings- als auch die Testdaten). Sie können die Standardeigenschaften des Seaborn-Pairplots verwenden."
   ]
  },
  {
   "cell_type": "markdown",
   "metadata": {},
   "source": [
    "Trainingsdaten"
   ]
  },
  {
   "cell_type": "code",
   "execution_count": null,
   "metadata": {},
   "outputs": [],
   "source": []
  },
  {
   "cell_type": "markdown",
   "metadata": {},
   "source": [
    "Testdaten"
   ]
  },
  {
   "cell_type": "code",
   "execution_count": null,
   "metadata": {},
   "outputs": [],
   "source": []
  },
  {
   "cell_type": "markdown",
   "metadata": {},
   "source": [
    "### Liniendiagramm zur Abbildung der Zeitreihen\n",
    "Da es sich bei den Daten um Zeitreihen handelt, stellen wir die beiden Data Frames im nächsten Schritt als Liniendiagramme dar. Da Pandas ebenfalls Möglichkeiten zur Datenvisualisierung mitliefert und diese für diesen Zweck ausreichend sind, nutzen wir [\"DataFrame.plot()\"](https://pandas.pydata.org/pandas-docs/stable/generated/pandas.DataFrame.plot.html), um die Liniendiagramme zu erstellen.\n",
    "\n",
    "**Aufgabe 6:** Erstellen Sie zwei Liniendiagramme (Trainings- und Testdaten), die die logarithmierten Daten in einem gemeinsamen Plot abbilden. Nutzen Sie dazu die in Pandas bereitgestellte Möglichkeit zur Datenvisualisierung: [\"DataFrame.plot()\"](https://pandas.pydata.org/pandas-docs/stable/generated/pandas.DataFrame.plot.html).\n",
    "Folgende Eigenschaften sollen bei der Erstellung des Diagramms beachtet werden:\n",
    "* Logarithmische Skalierung der Daten und Darstellung aller Variablen in einem Diagramm\n",
    "* Linienstärke = 1\n",
    "* Diagrammgröße: 20x8 inch\n",
    "* Legende einblenden\n",
    "* Diagrammtitel: \"Line Chart - Train Data (bzw. Test Data)\"\n"
   ]
  },
  {
   "cell_type": "markdown",
   "metadata": {},
   "source": [
    "Trainingsdaten"
   ]
  },
  {
   "cell_type": "code",
   "execution_count": null,
   "metadata": {},
   "outputs": [],
   "source": []
  },
  {
   "cell_type": "markdown",
   "metadata": {},
   "source": [
    "Testdaten"
   ]
  },
  {
   "cell_type": "code",
   "execution_count": null,
   "metadata": {},
   "outputs": [],
   "source": []
  },
  {
   "cell_type": "markdown",
   "metadata": {},
   "source": [
    "# Datenanalyse\n",
    "Nachdem wir im ersten Schritt die Daten visualisiert haben, geht es im nächsten Schritt darum eine Anomalieerkennung mit Hilfe einer One-Class-SVM zu implementieren. \n",
    "\n",
    "## Wiederholung: One-Class Support Vector Machine\n",
    "Wir nutzen eine **One-Class-SVM** zur Erkennung von Anomalien. Bei einer Support Vector Machine (SVM) handelt es sich um ein Klassifikationsverfahren aus der statistischen Lerntheorie. Objekte sollen mittels einer Hyperebene so voneinander getrennt werden, dass der Grenzbereich zwischen dem Objekten möglich berit und frei von anderen Objekten ist.\n",
    "\n",
    "Die One-Class SVM ist ein Spezialfall der SVM, bei der lediglich zwei Klassen betrachtet:\n",
    "* Trainingsdaten bilden die erste Klasse\n",
    "* Ursprung ist das einzige Element der zweiten Klasse\n",
    "\n",
    "Die Idee ist es nun eine Hyperebene zu ermitteln, welche die meisten Objekte des Normalzustands vom (Koordinaten-) Urpsrung trennt:\n",
    "* Abtrennung der meistern (aber nicht aller) Elemente (verhindert Overfitting)\n",
    "* liegt ein Objekt (Datenpunkt) zwischen Hyperebene und Ursprung handelt es sich um eine Anomalie\n",
    "\n",
    "\n",
    "## Machine Learning in Python mit Scikit Learn\n",
    "Um Machine Learning in Python zu betreiben und eine One-Class SVM umzusetzen, nutzen wir das wohl bekannteste Paket in diesem Umfeld **Scikit Learn** [(Dokumentation)](http://scikit-learn.org/stable/). Es enthält bereits viele eingebaute Algorithmen (u.a. eben die One-Class SVM).\n",
    "\n",
    "\n",
    "### Importieren der benötigten Bibliotheken\n",
    "Zunächst importieren wir wieder die nötigen Bibliotheken. Aus **sklearn** nutzen wir uns die **SVM**. \n",
    "\n",
    "[**Scipy.stats**](https://docs.scipy.org/doc/scipy/reference/stats.html) stellt eine Reihe von statistischen Funktionen bereit. Wir nutzen später **itemfreq** um die Anzahl der Anomalien festzustellen."
   ]
  },
  {
   "cell_type": "code",
   "execution_count": 18,
   "metadata": {},
   "outputs": [],
   "source": [
    "from sklearn import svm\n",
    "from scipy.stats import itemfreq"
   ]
  },
  {
   "cell_type": "markdown",
   "metadata": {},
   "source": [
    "### Festlegen der Modellparameter für eine One-Class SVM\n",
    "Als erstes müssen wir die Parameter unserer One-Class SVM festlegen. Welche es gibt und was diese bedeuten finden Sie ausführlich [hier](http://scikit-learn.org/stable/modules/generated/sklearn.svm.OneClassSVM.html).\n",
    "\n",
    "In unserem Fall verwenden wir folgende Parameter (alle anderen bleiben bei den Default-Einstellungen):\n",
    "* kernel: definiert den Kernel-Typ\n",
    "       * Wie wird die Grenze bestimmt?\n",
    "       * Linear, Nicht-Linear, RBF\n",
    "       * Abhängig vom Datensatz und der linearen Separierbarkeit\n",
    "* gamma: Kernel-Koeffizient auf den das Modell sehr empfindlich reagiert\n",
    "* nu: Wert, der die obere Grenze für den Bruchteil von Ausreißern darstellt\n",
    "\n",
    "Weitere Referenzen:\n",
    "* [RBF SVM parameters](http://scikit-learn.org/stable/auto_examples/svm/plot_rbf_parameters.html)\n",
    "\n",
    "**Aufgabe 7:** Legen Sie die angegebenen Modellparameter fest.Weisen Sie das Modell mit den Parametern dabei einer Variable \"clf\" zu.  Nutzen Sie dazu die [Dokumentation](http://scikit-learn.org/stable/modules/generated/sklearn.svm.OneClassSVM.html) von Scikit-Learn.\n",
    "\n",
    "Parameter:\n",
    "* kernel: RBF\n",
    "* gamma: 0.0005\n",
    "* nu: 0.1\n",
    "\n",
    "\n"
   ]
  },
  {
   "cell_type": "code",
   "execution_count": null,
   "metadata": {},
   "outputs": [],
   "source": []
  },
  {
   "cell_type": "markdown",
   "metadata": {},
   "source": [
    "### Trainieren des Modells\n",
    "Das Trainieren unseres Modells entsprechend der vorher angegebenen Parameter führen wir mit Hilfe der fit()-Funktion durch, die wir auf unsere Trainingsdaten (df_train) anwenden).\n",
    "\n",
    "**Aufgabe 8:** Trainieren Sie das Modell anhand der Trainingsdaten (df_train).\n",
    "\n"
   ]
  },
  {
   "cell_type": "code",
   "execution_count": null,
   "metadata": {},
   "outputs": [],
   "source": []
  },
  {
   "cell_type": "markdown",
   "metadata": {},
   "source": [
    "### Anwendung des trainierten Modells\n",
    "Im nächsten Schritt wenden wir unser erstelltes Modell auf unsere Testdaten (df_test) an. \"Itemfreq()\" gibt dabei ein 2D-Array aus, dass die Häufigkeiten der Items zählt. In unserem Fall bestehen zwei Items bzw. Klassen:\n",
    "* -1 entspricht einer Anomalie\n",
    "* 1 entspricht einem normalen Zustand"
   ]
  },
  {
   "cell_type": "code",
   "execution_count": 21,
   "metadata": {},
   "outputs": [
    {
     "data": {
      "text/plain": [
       "array([[ -1,  36],\n",
       "       [  1, 324]], dtype=int64)"
      ]
     },
     "execution_count": 21,
     "metadata": {},
     "output_type": "execute_result"
    }
   ],
   "source": [
    "itemfreq(clf.predict(df_test))"
   ]
  },
  {
   "cell_type": "markdown",
   "metadata": {},
   "source": [
    "Wir erkennen, dass in unseren 360 Datenreihen **36 Anomalien** erkannt wurden. Würden wir jetzt an den Parametern unseres Modells \"spielen\" würden wir Veränderungen in der Anzahl der Anomalien wahrnehmen.\n",
    "\n"
   ]
  },
  {
   "cell_type": "markdown",
   "metadata": {},
   "source": [
    "### Erstellen eines neuen Dataframes\n",
    "Als nächsten erstellen wir ein neues Dataframe, welche zusätzlich um die Spalte \"Anomaly\" ergänzt wird. In dieser steht die jeweilige Prediction zur Datenzeile (-1 oder 1). Im nächsten Schritt werden die Ergebnisse in dieser Spalte ersetzt durch \"Anomalie\" und \"keine Anomalie\"."
   ]
  },
  {
   "cell_type": "code",
   "execution_count": 22,
   "metadata": {},
   "outputs": [],
   "source": [
    "anom = df_test.assign(Anomaly=pd.DataFrame(clf.predict(df_test)))"
   ]
  },
  {
   "cell_type": "code",
   "execution_count": 23,
   "metadata": {},
   "outputs": [],
   "source": [
    "anom = anom.replace(-1, 'Anomalie')\n",
    "anom = anom.replace(1, 'keine Anomalie')"
   ]
  },
  {
   "cell_type": "code",
   "execution_count": 24,
   "metadata": {},
   "outputs": [
    {
     "data": {
      "text/html": [
       "<div>\n",
       "<style scoped>\n",
       "    .dataframe tbody tr th:only-of-type {\n",
       "        vertical-align: middle;\n",
       "    }\n",
       "\n",
       "    .dataframe tbody tr th {\n",
       "        vertical-align: top;\n",
       "    }\n",
       "\n",
       "    .dataframe thead th {\n",
       "        text-align: right;\n",
       "    }\n",
       "</style>\n",
       "<table border=\"1\" class=\"dataframe\">\n",
       "  <thead>\n",
       "    <tr style=\"text-align: right;\">\n",
       "      <th></th>\n",
       "      <th>Rotor speed</th>\n",
       "      <th>Gear Temp.</th>\n",
       "      <th>Generator rotation</th>\n",
       "      <th>Env. Temp.</th>\n",
       "      <th>Output</th>\n",
       "      <th>Voltage</th>\n",
       "      <th>Windspeed</th>\n",
       "      <th>Anomaly</th>\n",
       "    </tr>\n",
       "  </thead>\n",
       "  <tbody>\n",
       "    <tr>\n",
       "      <th>0</th>\n",
       "      <td>23.16</td>\n",
       "      <td>63.8</td>\n",
       "      <td>1649</td>\n",
       "      <td>9</td>\n",
       "      <td>344</td>\n",
       "      <td>401.19</td>\n",
       "      <td>17.98</td>\n",
       "      <td>keine Anomalie</td>\n",
       "    </tr>\n",
       "    <tr>\n",
       "      <th>1</th>\n",
       "      <td>18.29</td>\n",
       "      <td>62.9</td>\n",
       "      <td>1144</td>\n",
       "      <td>10</td>\n",
       "      <td>303</td>\n",
       "      <td>402.60</td>\n",
       "      <td>17.06</td>\n",
       "      <td>keine Anomalie</td>\n",
       "    </tr>\n",
       "    <tr>\n",
       "      <th>2</th>\n",
       "      <td>20.32</td>\n",
       "      <td>66.6</td>\n",
       "      <td>1742</td>\n",
       "      <td>9</td>\n",
       "      <td>349</td>\n",
       "      <td>401.15</td>\n",
       "      <td>16.48</td>\n",
       "      <td>keine Anomalie</td>\n",
       "    </tr>\n",
       "    <tr>\n",
       "      <th>3</th>\n",
       "      <td>21.67</td>\n",
       "      <td>69.7</td>\n",
       "      <td>1765</td>\n",
       "      <td>3</td>\n",
       "      <td>338</td>\n",
       "      <td>402.45</td>\n",
       "      <td>16.81</td>\n",
       "      <td>keine Anomalie</td>\n",
       "    </tr>\n",
       "    <tr>\n",
       "      <th>4</th>\n",
       "      <td>21.56</td>\n",
       "      <td>64.7</td>\n",
       "      <td>1393</td>\n",
       "      <td>6</td>\n",
       "      <td>348</td>\n",
       "      <td>403.21</td>\n",
       "      <td>16.04</td>\n",
       "      <td>keine Anomalie</td>\n",
       "    </tr>\n",
       "  </tbody>\n",
       "</table>\n",
       "</div>"
      ],
      "text/plain": [
       "   Rotor speed  Gear Temp.  Generator rotation Env. Temp.  Output  Voltage  \\\n",
       "0        23.16        63.8                1649          9     344   401.19   \n",
       "1        18.29        62.9                1144         10     303   402.60   \n",
       "2        20.32        66.6                1742          9     349   401.15   \n",
       "3        21.67        69.7                1765          3     338   402.45   \n",
       "4        21.56        64.7                1393          6     348   403.21   \n",
       "\n",
       "   Windspeed         Anomaly  \n",
       "0      17.98  keine Anomalie  \n",
       "1      17.06  keine Anomalie  \n",
       "2      16.48  keine Anomalie  \n",
       "3      16.81  keine Anomalie  \n",
       "4      16.04  keine Anomalie  "
      ]
     },
     "execution_count": 24,
     "metadata": {},
     "output_type": "execute_result"
    }
   ],
   "source": [
    "anom.head()"
   ]
  },
  {
   "cell_type": "markdown",
   "metadata": {},
   "source": [
    "### Ausgabe der Anomalien\n",
    "\n",
    "**Aufgabe 9:** Lassen Sie sich aus dem neu erstellten Data Frame \"anom\" alle Fälle ausgeben, die als Anomalie gekennzeichnet wurden.\n"
   ]
  },
  {
   "cell_type": "code",
   "execution_count": null,
   "metadata": {},
   "outputs": [],
   "source": []
  },
  {
   "cell_type": "markdown",
   "metadata": {},
   "source": [
    "### Visualisierung der Ergebnisse\n",
    "\n",
    "Vorhin haben wir im Pairplot der Testdaten schon mit dem Auge einige Ausreißer erkennen können. Wir möchten nun mit einem neuen Pairplot prüfen, ob diese von unserer One-Class-SVM auch korrekt erkannt werden.\n",
    "\n",
    "**Aufgabe 10:** Erstellen Sie anhand unseres neuen Data Frames \"anom\" ein neues Pairplot. Finden Sie eine Möglichkeit die Anomalien von den Normalzuständen innerhalb des Plots farblich zu unterscheiden. Nutzen Sie dazu wieder die Dokumentation zum [\"seaborn.pairplot()\"](https://seaborn.pydata.org/generated/seaborn.pairplot.html). \n",
    "\n"
   ]
  },
  {
   "cell_type": "code",
   "execution_count": null,
   "metadata": {},
   "outputs": [],
   "source": []
  },
  {
   "cell_type": "markdown",
   "metadata": {},
   "source": [
    "In einem zweiten Diagramm visualisieren wir uns die Distanzen zur Hyperebene. Dazu erstellen wir uns zunächst ein neues Dataframe. Dieses enthält eine ID, die Distanz und ob es sich dabei um eine Anomalie handelt oder nicht. "
   ]
  },
  {
   "cell_type": "code",
   "execution_count": 27,
   "metadata": {},
   "outputs": [],
   "source": [
    "dist = pd.DataFrame(clf.decision_function(df_test))\n",
    "dist.columns=['Distance']\n",
    "dist['ID'] = range(1, len(dist) + 1)\n",
    "dist['Anomaly'] = clf.predict(df_test)"
   ]
  },
  {
   "cell_type": "code",
   "execution_count": 28,
   "metadata": {},
   "outputs": [
    {
     "data": {
      "text/html": [
       "<div>\n",
       "<style scoped>\n",
       "    .dataframe tbody tr th:only-of-type {\n",
       "        vertical-align: middle;\n",
       "    }\n",
       "\n",
       "    .dataframe tbody tr th {\n",
       "        vertical-align: top;\n",
       "    }\n",
       "\n",
       "    .dataframe thead th {\n",
       "        text-align: right;\n",
       "    }\n",
       "</style>\n",
       "<table border=\"1\" class=\"dataframe\">\n",
       "  <thead>\n",
       "    <tr style=\"text-align: right;\">\n",
       "      <th></th>\n",
       "      <th>Distance</th>\n",
       "      <th>ID</th>\n",
       "      <th>Anomaly</th>\n",
       "    </tr>\n",
       "  </thead>\n",
       "  <tbody>\n",
       "    <tr>\n",
       "      <th>0</th>\n",
       "      <td>0.212644</td>\n",
       "      <td>1</td>\n",
       "      <td>1</td>\n",
       "    </tr>\n",
       "    <tr>\n",
       "      <th>1</th>\n",
       "      <td>0.142080</td>\n",
       "      <td>2</td>\n",
       "      <td>1</td>\n",
       "    </tr>\n",
       "    <tr>\n",
       "      <th>2</th>\n",
       "      <td>0.053637</td>\n",
       "      <td>3</td>\n",
       "      <td>1</td>\n",
       "    </tr>\n",
       "    <tr>\n",
       "      <th>3</th>\n",
       "      <td>0.146397</td>\n",
       "      <td>4</td>\n",
       "      <td>1</td>\n",
       "    </tr>\n",
       "    <tr>\n",
       "      <th>4</th>\n",
       "      <td>0.036837</td>\n",
       "      <td>5</td>\n",
       "      <td>1</td>\n",
       "    </tr>\n",
       "  </tbody>\n",
       "</table>\n",
       "</div>"
      ],
      "text/plain": [
       "   Distance  ID  Anomaly\n",
       "0  0.212644   1        1\n",
       "1  0.142080   2        1\n",
       "2  0.053637   3        1\n",
       "3  0.146397   4        1\n",
       "4  0.036837   5        1"
      ]
     },
     "execution_count": 28,
     "metadata": {},
     "output_type": "execute_result"
    }
   ],
   "source": [
    "dist.head()"
   ]
  },
  {
   "cell_type": "markdown",
   "metadata": {},
   "source": [
    "Sind die Distanzen negativ, ist eine Anomalie aufgetreten. Im nachfolgenden Scatterplot wird das deutlich."
   ]
  },
  {
   "cell_type": "code",
   "execution_count": 29,
   "metadata": {
    "scrolled": false
   },
   "outputs": [
    {
     "data": {
      "text/plain": [
       "<matplotlib.axes._subplots.AxesSubplot at 0x186e4961ba8>"
      ]
     },
     "execution_count": 29,
     "metadata": {},
     "output_type": "execute_result"
    },
    {
     "data": {
      "image/png": "[encoded data removed]",
      "text/plain": [
       "<Figure size 1440x432 with 2 Axes>"
      ]
     },
     "metadata": {},
     "output_type": "display_data"
    }
   ],
   "source": [
    "dist.plot.scatter(x='ID', y='Distance', figsize=(20,6),c='Anomaly',lw=4, cmap='RdYlGn')"
   ]
  },
  {
   "cell_type": "code",
   "execution_count": 30,
   "metadata": {},
   "outputs": [
    {
     "data": {
      "text/plain": [
       "<matplotlib.axes._subplots.AxesSubplot at 0x186e5d37400>"
      ]
     },
     "execution_count": 30,
     "metadata": {},
     "output_type": "execute_result"
    },
    {
     "data": {
      "image/png": "[encoded data removed]",
      "text/plain": [
       "<Figure size 1080x432 with 1 Axes>"
      ]
     },
     "metadata": {},
     "output_type": "display_data"
    },
    {
     "data": {
      "image/png": "[encoded data removed]",
      "text/plain": [
       "<Figure size 1080x432 with 1 Axes>"
      ]
     },
     "metadata": {},
     "output_type": "display_data"
    }
   ],
   "source": [
    "dist.where(dist['Distance']>0).plot.scatter(x='ID', y='Distance', figsize=(15,6), c='green',lw=4)\n",
    "dist.where(dist['Distance']<0).plot.scatter(x='ID', y='Distance', figsize=(15,6), c='red',lw=4)"
   ]
  },
  {
   "cell_type": "code",
   "execution_count": null,
   "metadata": {},
   "outputs": [],
   "source": []
  }
 ],
 "metadata": {
  "kernelspec": {
   "display_name": "Python 3",
   "language": "python",
   "name": "python3"
  },
  "language_info": {
   "codemirror_mode": {
    "name": "ipython",
    "version": 3
   },
   "file_extension": ".py",
   "mimetype": "text/x-python",
   "name": "python",
   "nbconvert_exporter": "python",
   "pygments_lexer": "ipython3",
   "version": "3.6.5"
  }
 },
 "nbformat": 4,
 "nbformat_minor": 2
}
